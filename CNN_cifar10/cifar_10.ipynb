{
 "cells": [
  {
   "cell_type": "code",
   "execution_count": 1,
   "id": "99e737a0-72dc-4164-8877-2decdd2c829c",
   "metadata": {
    "tags": []
   },
   "outputs": [],
   "source": [
    "from tensorflow.keras.datasets import cifar10\n",
    "from tensorflow.keras.models import Sequential\n",
    "from tensorflow.keras.layers import Conv2D\n",
    "from tensorflow.keras.layers import MaxPool2D\n",
    "from tensorflow.keras.layers import Flatten\n",
    "from tensorflow.keras.layers import Dropout\n",
    "from tensorflow.keras.layers import Dense\n",
    "import matplotlib.pyplot as plt\n",
    "\n",
    "# need this to download cifar, dunno why\n",
    "import ssl\n",
    "ssl._create_default_https_context = ssl._create_unverified_context"
   ]
  },
  {
   "cell_type": "code",
   "execution_count": 2,
   "id": "6d13fa67-e059-4140-ac0f-0a48c4c136e4",
   "metadata": {
    "tags": []
   },
   "outputs": [],
   "source": [
    "# load data\n",
    "\n",
    "(X_train,y_train) , (X_test,y_test) = cifar10.load_data()"
   ]
  },
  {
   "cell_type": "code",
   "execution_count": 3,
   "id": "7f253113-a80d-44af-9b26-a16e60e0fc2f",
   "metadata": {
    "tags": []
   },
   "outputs": [],
   "source": [
    "# get label names\n",
    "\n",
    "label_names = [\n",
    "    \"airplane\", \"automobile\", \"bird\", \"cat\", \"deer\", \"dog\", \"frog\", \"horse\", \"ship\", \"truck\"\n",
    "]\n",
    "\n",
    "label_dict = {i : label_names[i] for i in range(len(label_names))}"
   ]
  },
  {
   "cell_type": "code",
   "execution_count": 4,
   "id": "d80d51e1-aa80-47c6-87e1-b066b5d9616b",
   "metadata": {
    "tags": []
   },
   "outputs": [
    {
     "data": {
      "image/png": "[encoded data removed]",
      "text/plain": [
       "<Figure size 640x480 with 1 Axes>"
      ]
     },
     "metadata": {},
     "output_type": "display_data"
    },
    {
     "name": "stdout",
     "output_type": "stream",
     "text": [
      "ship\n"
     ]
    }
   ],
   "source": [
    "# visualise example\n",
    "\n",
    "index = 111\n",
    "\n",
    "exemplary_image = X_train[index]\n",
    "exemplary_label = y_train[index]\n",
    "\n",
    "plt.imshow(exemplary_image)\n",
    "plt.axis('off')\n",
    "plt.show()\n",
    "\n",
    "print(label_dict[exemplary_label[0]])"
   ]
  },
  {
   "cell_type": "code",
   "execution_count": 5,
   "id": "bf86f723-f7cc-4ca1-8b0a-9de7bebb8a7c",
   "metadata": {
    "tags": []
   },
   "outputs": [],
   "source": [
    "#normalizing the pixel values\n",
    "\n",
    "X_train=X_train/255\n",
    "X_test=X_test/255"
   ]
  },
  {
   "cell_type": "code",
   "execution_count": 6,
   "id": "6af149a9-d70b-4167-b6cd-fa23d504816a",
   "metadata": {
    "tags": []
   },
   "outputs": [
    {
     "name": "stdout",
     "output_type": "stream",
     "text": [
      "Epoch 1/20\n",
      "1563/1563 [==============================] - 15s 9ms/step - loss: 1.4931 - accuracy: 0.4646\n",
      "Epoch 2/20\n",
      "1563/1563 [==============================] - 14s 9ms/step - loss: 1.1448 - accuracy: 0.5925\n",
      "Epoch 3/20\n",
      "1563/1563 [==============================] - 15s 9ms/step - loss: 1.0273 - accuracy: 0.6403\n",
      "Epoch 4/20\n",
      "1563/1563 [==============================] - 15s 10ms/step - loss: 0.9505 - accuracy: 0.6672\n",
      "Epoch 5/20\n",
      "1563/1563 [==============================] - 15s 10ms/step - loss: 0.8926 - accuracy: 0.6863\n",
      "Epoch 6/20\n",
      "1563/1563 [==============================] - 15s 9ms/step - loss: 0.8272 - accuracy: 0.7105\n",
      "Epoch 7/20\n",
      "1563/1563 [==============================] - 15s 9ms/step - loss: 0.7800 - accuracy: 0.7251\n",
      "Epoch 8/20\n",
      "1563/1563 [==============================] - 16s 10ms/step - loss: 0.7412 - accuracy: 0.7421\n",
      "Epoch 9/20\n",
      "1563/1563 [==============================] - 16s 10ms/step - loss: 0.6986 - accuracy: 0.7567\n",
      "Epoch 10/20\n",
      "1563/1563 [==============================] - 15s 10ms/step - loss: 0.6635 - accuracy: 0.7688\n",
      "Epoch 11/20\n",
      "1563/1563 [==============================] - 15s 10ms/step - loss: 0.6346 - accuracy: 0.7786\n",
      "Epoch 12/20\n",
      "1563/1563 [==============================] - 15s 10ms/step - loss: 0.5968 - accuracy: 0.7918\n",
      "Epoch 13/20\n",
      "1563/1563 [==============================] - 16s 10ms/step - loss: 0.5726 - accuracy: 0.7998\n",
      "Epoch 14/20\n",
      "1563/1563 [==============================] - 16s 10ms/step - loss: 0.5417 - accuracy: 0.8091\n",
      "Epoch 15/20\n",
      "1563/1563 [==============================] - 15s 9ms/step - loss: 0.5179 - accuracy: 0.8193\n",
      "Epoch 16/20\n",
      "1563/1563 [==============================] - 16s 10ms/step - loss: 0.4926 - accuracy: 0.8287\n",
      "Epoch 17/20\n",
      "1563/1563 [==============================] - 15s 10ms/step - loss: 0.4703 - accuracy: 0.8364\n",
      "Epoch 18/20\n",
      "1563/1563 [==============================] - 15s 9ms/step - loss: 0.4456 - accuracy: 0.8437\n",
      "Epoch 19/20\n",
      "1563/1563 [==============================] - 15s 9ms/step - loss: 0.4260 - accuracy: 0.8513\n",
      "Epoch 20/20\n",
      "1563/1563 [==============================] - 15s 10ms/step - loss: 0.4068 - accuracy: 0.8591\n"
     ]
    },
    {
     "data": {
      "text/plain": [
       "<keras.callbacks.History at 0x21fb07dd060>"
      ]
     },
     "execution_count": 6,
     "metadata": {},
     "output_type": "execute_result"
    }
   ],
   "source": [
    "#defining model\n",
    "model=Sequential()\n",
    "\n",
    "#adding convolution layer\n",
    "model.add(Conv2D(32,(3,3),activation='relu',input_shape=(32,32,3)))\n",
    "\n",
    "#adding pooling layer\n",
    "model.add(MaxPool2D(3,3))\n",
    "\n",
    "#second convolution layer\n",
    "model.add(Conv2D(32,(3,3),activation='relu'))\n",
    "\n",
    "#second pooling layer\n",
    "model.add(MaxPool2D(2,2))\n",
    "\n",
    "#adding fully connected layer\n",
    "model.add(Flatten())\n",
    "model.add(Dense(100,activation='tanh'))\n",
    "\n",
    "#adding output layer\n",
    "model.add(Dense(10,activation='softmax'))\n",
    "\n",
    "#compiling the model\n",
    "model.compile(loss='sparse_categorical_crossentropy',optimizer='adam',metrics=['accuracy'])\n",
    "\n",
    "#fitting the model\n",
    "model.fit(X_train,y_train,epochs=20)"
   ]
  },
  {
   "cell_type": "code",
   "execution_count": 7,
   "id": "71f5aab8-a3ec-41b7-8502-aec377cc2af8",
   "metadata": {
    "tags": []
   },
   "outputs": [
    {
     "name": "stdout",
     "output_type": "stream",
     "text": [
      "313/313 [==============================] - 1s 3ms/step - loss: 0.9473 - accuracy: 0.7094\n"
     ]
    },
    {
     "data": {
      "text/plain": [
       "[0.9473288059234619, 0.7093999981880188]"
      ]
     },
     "execution_count": 7,
     "metadata": {},
     "output_type": "execute_result"
    }
   ],
   "source": [
    "#evaluting the model\n",
    "model.evaluate(X_test,y_test)"
   ]
  },
  {
   "cell_type": "code",
   "execution_count": null,
   "id": "b8573642-99b3-471a-bdc8-04efe5d1053c",
   "metadata": {},
   "outputs": [],
   "source": []
  }
 ],
 "metadata": {
  "kernelspec": {
   "display_name": "Python 3 (ipykernel)",
   "language": "python",
   "name": "python3"
  },
  "language_info": {
   "codemirror_mode": {
    "name": "ipython",
    "version": 3
   },
   "file_extension": ".py",
   "mimetype": "text/x-python",
   "name": "python",
   "nbconvert_exporter": "python",
   "pygments_lexer": "ipython3",
   "version": "3.10.11"
  }
 },
 "nbformat": 4,
 "nbformat_minor": 5
}
